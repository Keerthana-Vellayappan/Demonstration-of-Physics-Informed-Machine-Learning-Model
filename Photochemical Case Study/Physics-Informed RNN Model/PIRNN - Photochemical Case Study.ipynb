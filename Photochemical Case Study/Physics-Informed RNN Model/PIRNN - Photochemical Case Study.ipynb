{
 "cells": [
  {
   "cell_type": "code",
   "execution_count": 1,
   "id": "7c7ab319",
   "metadata": {},
   "outputs": [
    {
     "name": "stderr",
     "output_type": "stream",
     "text": [
      "/usr/local/lib/python3.10/site-packages/tqdm/auto.py:21: TqdmWarning: IProgress not found. Please update jupyter and ipywidgets. See https://ipywidgets.readthedocs.io/en/stable/user_install.html\n",
      "  from .autonotebook import tqdm as notebook_tqdm\n"
     ]
    }
   ],
   "source": [
    "import numpy as np\n",
    "import pandas as pd\n",
    "import matplotlib.pyplot as plt\n",
    "from scipy.integrate import solve_ivp\n",
    "import torch\n",
    "import torch.nn as nn\n",
    "from sklearn.model_selection import train_test_split\n",
    "from torch.utils.data import DataLoader, TensorDataset\n",
    "import math\n",
    "import optuna\n",
    "import time\n",
    "from scipy.integrate import odeint\n",
    "from sklearn import preprocessing"
   ]
  },
  {
   "cell_type": "code",
   "execution_count": 2,
   "id": "8db3b94c",
   "metadata": {},
   "outputs": [],
   "source": [
    "# EarlyStopping function\n",
    "\n",
    "class EarlyStopping:\n",
    "    \"\"\"Early stops the training if validation loss doesn't improve after a given patience.\"\"\"\n",
    "    \n",
    "    def __init__(self, patience=7, verbose=False, delta=0, path='checkpoint.pt', trace_func=print):\n",
    "        \"\"\"\n",
    "        Args:\n",
    "            patience (int): How long to wait after last time validation loss improved.\n",
    "                            Default: 7\n",
    "            verbose (bool): If True, prints a message for each validation loss improvement. \n",
    "                            Default: False\n",
    "            delta (float): Minimum change in the monitored quantity to qualify as an improvement.\n",
    "                            Default: 0\n",
    "            path (str): Path for the checkpoint to be saved to.\n",
    "                            Default: 'checkpoint.pt'\n",
    "            trace_func (function): trace print function.\n",
    "                            Default: print            \n",
    "        \"\"\"\n",
    "        self.patience = patience\n",
    "        self.verbose = verbose\n",
    "        self.counter = 0\n",
    "        self.best_score = None\n",
    "        self.early_stop = False\n",
    "        self.val_loss_min = np.Inf\n",
    "        self.delta = delta\n",
    "        self.path = path\n",
    "        self.trace_func = trace_func\n",
    "        \n",
    "    def __call__(self, val_loss, model):\n",
    "\n",
    "        score = -val_loss\n",
    "\n",
    "        if self.best_score is None:\n",
    "            self.best_score = score\n",
    "            self.save_checkpoint(val_loss, model)\n",
    "        elif score < self.best_score + self.delta:\n",
    "            self.counter += 1\n",
    "            self.trace_func(f'EarlyStopping counter: {self.counter} out of {self.patience}')\n",
    "            if self.counter >= self.patience:\n",
    "                self.early_stop = True\n",
    "        else:\n",
    "            self.best_score = score\n",
    "            self.save_checkpoint(val_loss, model)\n",
    "            self.counter = 0\n",
    "\n",
    "    def save_checkpoint(self, val_loss, model):\n",
    "        '''Saves model when validation loss decrease.'''\n",
    "        if self.verbose:\n",
    "            self.trace_func(f'Validation loss decreased ({self.val_loss_min:.6f} --> {val_loss:.6f}).  Saving model ...')\n",
    "        torch.save(model.state_dict(), self.path)\n",
    "        self.val_loss_min = val_loss"
   ]
  },
  {
   "cell_type": "code",
   "execution_count": 3,
   "id": "d2af1f67",
   "metadata": {},
   "outputs": [
    {
     "data": {
      "text/plain": [
       "'using cpu'"
      ]
     },
     "execution_count": 3,
     "metadata": {},
     "output_type": "execute_result"
    }
   ],
   "source": [
    "# Tells whether the model is running on CPU or GPU\n",
    "\n",
    "device = torch.device(\"cuda\" if torch.cuda.is_available() else \"cpu\")\n",
    "print('using GPU:', torch.cuda.get_device_name()) if torch.cuda.is_available() else 'using cpu'"
   ]
  },
  {
   "cell_type": "markdown",
   "id": "32db19a1",
   "metadata": {},
   "source": [
    "# DEFINE PARAMETERS"
   ]
  },
  {
   "cell_type": "code",
   "execution_count": 4,
   "id": "451e5021",
   "metadata": {},
   "outputs": [],
   "source": [
    "# define constant parameters\n",
    "\n",
    "R = (6.4*10e-3)/2 # Tubular radius, units: m\n",
    "qp_480 = 1.3 * 10e-4 # Photon flux, units: moles photons · m-2 · s-1\n",
    "Vr = 4.78 * 10e-6 # Reactor volume, units: m3\n",
    "CB = 0.4 # Concentartion of reactant B, units: M\n",
    "\n",
    "# Calculate photon flux at different power ratings\n",
    "\n",
    "# 240 W\n",
    "qp_240 = qp_480*240/480\n",
    "\n",
    "#120 W\n",
    "qp_120 = qp_480*120/480"
   ]
  },
  {
   "cell_type": "code",
   "execution_count": 5,
   "id": "eb27ee12",
   "metadata": {},
   "outputs": [],
   "source": [
    "# Regressed parameters\n",
    "\n",
    "phi_n = 3.64157355e-01 # Quantum yield, units: mole/Einstien\n",
    "mpc = 1.00637223e-01 # photon absorption by photocatalyst\n",
    "ka = 9.75555522e-01 # Napierian molar absorption coefficient of specis A, units: m2/mol \n",
    "kc = 1.00000000e+02 # Napierian molar absorption coefficient of specis C, units: m2/mol \n",
    "k1 = 1.81787184e+00 # rate constant for formation of species C\n",
    "k2 =  1.00346260e-02 # rate constant for formation of species E"
   ]
  },
  {
   "cell_type": "markdown",
   "id": "f33257c1",
   "metadata": {},
   "source": [
    "# LOAD DATA"
   ]
  },
  {
   "cell_type": "code",
   "execution_count": 7,
   "id": "4e37c8f6",
   "metadata": {},
   "outputs": [
    {
     "name": "stdout",
     "output_type": "stream",
     "text": [
      "Sheet1\n",
      "Sheet2\n",
      "Sheet3\n",
      "Sheet4\n",
      "Sheet5\n",
      "Sheet6\n",
      "Sheet7\n",
      "Sheet8\n",
      "Sheet9\n"
     ]
    }
   ],
   "source": [
    "Y1_list = []\n",
    "Y2_list = []\n",
    "Y3_list = []\n",
    "Input_list = []\n",
    "for i in range(1,10):\n",
    "    name = \"Sheet\" + str(i)\n",
    "    print(name)\n",
    "    raw_input = pd.read_excel(\"Updated_photochemical_Experiment.xlsx\",name)\n",
    "    X=raw_input.values.astype(np.float64)\n",
    "    X1 = X[:,2]\n",
    "    Y1 = X[:,10]\n",
    "    Y2 = X[:,11]\n",
    "    Y3 = X[:,9]\n",
    "    \n",
    "    Y1_list.append(Y1)\n",
    "    Y2_list.append(Y2)\n",
    "    Y3_list.append(Y3)\n",
    "    \n",
    "    Input_list.append([X[0,0],X[0,1],Y1[0],Y2[0],Y3[0]])  #Y1,Y2,Y3 ==1,0,0\n"
   ]
  },
  {
   "cell_type": "code",
   "execution_count": 8,
   "id": "eac59909",
   "metadata": {},
   "outputs": [
    {
     "name": "stdout",
     "output_type": "stream",
     "text": [
      "[[0.2, 480.0, 1.0, 0.0, 0.0], [0.2, 240.0, 1.0, 0.0, 0.0], [0.2, 120.0, 1.0, 0.0, 0.0], [0.3, 480.0, 1.0, 0.0, 0.0], [0.3, 240.0, 1.0, 0.0, 0.0], [0.3, 120.0, 1.0, 0.0, 0.0], [0.4, 480.0, 1.0, 0.0, 0.0], [0.4, 240.0, 1.0, 0.0, 0.0], [0.4, 120.0, 1.0, 0.0, 0.0]]\n",
      "RNN_input shape is (9, 36, 5)\n"
     ]
    }
   ],
   "source": [
    "print(Input_list)\n",
    "X_input = np.array(Input_list).reshape(-1,1,5)\n",
    "RNN_input = X_input.repeat(36, axis=1)  # to keep consensus with the shape for RNN_output, since the output variable is collected 100(0.01/1e-4) times for each RNN_input\n",
    "print(\"RNN_input shape is {}\".format(RNN_input.shape))"
   ]
  },
  {
   "cell_type": "code",
   "execution_count": 9,
   "id": "c24f5097",
   "metadata": {},
   "outputs": [
    {
     "name": "stdout",
     "output_type": "stream",
     "text": [
      "RNN_input shape is (9, 36, 5)\n"
     ]
    }
   ],
   "source": [
    "X_input = np.array(Input_list).reshape(-1,1,5)\n",
    "RNN_input = X_input.repeat(36, axis=1)  # to keep consensus with the shape for RNN_output\n",
    "print(\"RNN_input shape is {}\".format(RNN_input.shape))"
   ]
  },
  {
   "cell_type": "code",
   "execution_count": 10,
   "id": "94bc526e",
   "metadata": {},
   "outputs": [
    {
     "name": "stdout",
     "output_type": "stream",
     "text": [
      "RNN_output shape is (9, 36, 3)\n"
     ]
    }
   ],
   "source": [
    "Y1_output = np.array(Y1_list)\n",
    "Y1_output = Y1_output.reshape(-1, 36, 1)\n",
    "Y2_output = np.array(Y2_list)\n",
    "Y2_output = Y2_output.reshape(-1, 36, 1)\n",
    "Y3_output = np.array(Y3_list)\n",
    "Y3_output = Y3_output.reshape(-1, 36, 1)\n",
    "RNN_output = np.concatenate((Y1_output, Y2_output, Y3_output), axis=2)\n",
    "print(\"RNN_output shape is {}\".format(RNN_output.shape))  # output shape: number of samples x timestep x variables"
   ]
  },
  {
   "cell_type": "code",
   "execution_count": 11,
   "id": "a4d6b856",
   "metadata": {},
   "outputs": [
    {
     "name": "stdout",
     "output_type": "stream",
     "text": [
      "[  0.3 280.    1.    0.    0. ]\n",
      "[6.66666667e-03 2.24000000e+04 0.00000000e+00 0.00000000e+00\n",
      " 0.00000000e+00]\n",
      "[0.29611469 0.69253774 0.01134757]\n",
      "[2.33151041e-02 2.22718238e-02 1.73960109e-05]\n"
     ]
    }
   ],
   "source": [
    "# Normalization\n",
    "\n",
    "scaler_X = preprocessing.StandardScaler().fit(RNN_input.reshape(-1, 5))\n",
    "scaler_y = preprocessing.StandardScaler().fit(RNN_output.reshape(-1, 3))\n",
    "\n",
    "print(scaler_X.mean_)\n",
    "print(scaler_X.var_)\n",
    "print(scaler_y.mean_)\n",
    "print(scaler_y.var_)\n",
    "\n",
    "RNN_input = scaler_X.transform(RNN_input.reshape(-1, 5)).reshape(-1,36,5)\n",
    "RNN_output = scaler_y.transform(RNN_output.reshape(-1, 3)).reshape(-1,36,3)\n",
    "\n",
    "mean_y = torch.from_numpy(scaler_y.mean_).float()\n",
    "std_y = torch.from_numpy(np.sqrt(scaler_y.var_)).float()"
   ]
  },
  {
   "cell_type": "code",
   "execution_count": 12,
   "id": "be865038",
   "metadata": {},
   "outputs": [],
   "source": [
    "torch.save(mean_y,'mean_y.pt')\n",
    "torch.save(std_y,'std_y.pt')\n",
    "np.save('mean_X.npy',scaler_X.mean_)\n",
    "np.save('std_X.npy',np.sqrt(scaler_X.var_))"
   ]
  },
  {
   "cell_type": "code",
   "execution_count": 13,
   "id": "b65ebc69",
   "metadata": {},
   "outputs": [],
   "source": [
    "# split into train and test sets\n",
    "x_train = RNN_input[:5,:,:]\n",
    "x_test  = RNN_input[7:,:,:]\n",
    "x_val = RNN_input[5:7,:,:]\n",
    "y_train = RNN_output[:5,:,:]\n",
    "y_test =  RNN_output[7:,:,:]\n",
    "y_val = RNN_output[5:7,:,:]"
   ]
  },
  {
   "cell_type": "code",
   "execution_count": 14,
   "id": "945d8c5f",
   "metadata": {},
   "outputs": [
    {
     "name": "stdout",
     "output_type": "stream",
     "text": [
      "X_train shape is (5, 36, 5), X_val shape is (2, 36, 5), X_test shape is (2, 36, 5)\n",
      "y_train shape is (5, 36, 3), y_val shape is (2, 36, 3), y_test shape is (2, 36, 3)\n"
     ]
    }
   ],
   "source": [
    "############################# Split Train, Test, and Validation dataset ##################################\n",
    "\n",
    "#X_train, x_test, Y_train, y_test = train_test_split(RNN_input, RNN_output, test_size=0.2, random_state=42)\n",
    "\n",
    "#x_train, x_val, y_train, y_val = train_test_split(X_train, Y_train, test_size=0.2, random_state=42) \n",
    "\n",
    "print(f\"X_train shape is {x_train.shape}, X_val shape is {x_val.shape}, X_test shape is {x_test.shape}\")\n",
    "print(f\"y_train shape is {y_train.shape}, y_val shape is {y_val.shape}, y_test shape is {y_test.shape}\")"
   ]
  },
  {
   "cell_type": "code",
   "execution_count": 15,
   "id": "89f204bf",
   "metadata": {},
   "outputs": [],
   "source": [
    "mean_X = np.load('mean_X.npy')\n",
    "std_X = np.load('std_X.npy')\n",
    "mean_y = torch.load('mean_y.pt')\n",
    "std_y=torch.load('std_y.pt')"
   ]
  },
  {
   "cell_type": "markdown",
   "id": "e9022d46",
   "metadata": {},
   "source": [
    "# COLLOCATION POINTS"
   ]
  },
  {
   "cell_type": "code",
   "execution_count": 16,
   "id": "d8c00da1",
   "metadata": {},
   "outputs": [],
   "source": [
    "# generating collocation points \n",
    "# u1 = Reactant feed concentration, u2 = Power rating\n",
    "\n",
    "u1_physics_list = np.linspace(0.2,0.3, 20)\n",
    "u2_physics_list = np.linspace(120,480, 20) "
   ]
  },
  {
   "cell_type": "code",
   "execution_count": 17,
   "id": "c863e9dc",
   "metadata": {},
   "outputs": [
    {
     "name": "stdout",
     "output_type": "stream",
     "text": [
      "1 out of 20\n",
      "2 out of 20\n",
      "3 out of 20\n",
      "4 out of 20\n",
      "5 out of 20\n",
      "6 out of 20\n",
      "7 out of 20\n",
      "8 out of 20\n",
      "9 out of 20\n",
      "10 out of 20\n",
      "11 out of 20\n",
      "12 out of 20\n",
      "13 out of 20\n",
      "14 out of 20\n",
      "15 out of 20\n",
      "16 out of 20\n",
      "17 out of 20\n",
      "18 out of 20\n",
      "19 out of 20\n",
      "20 out of 20\n"
     ]
    }
   ],
   "source": [
    "u1_physics_input = list()\n",
    "u2_physics_input = list()\n",
    "Y_1_list = []\n",
    "Y_2_list = []\n",
    "Y_3_list = []\n",
    "\n",
    "for num_id, u1 in enumerate(u1_physics_list):\n",
    "    print(f\"{num_id + 1} out of {u1_physics_list.shape[0]}\")    #just to count and keep track\n",
    "    CBi = u1 \n",
    "    \n",
    "    for u2 in u2_physics_list:\n",
    "        F = u2 \n",
    "        \n",
    "        u1_physics_input.append(u1)\n",
    "        u2_physics_input.append(u2)\n",
    "        \n",
    "        Y_1 = 1\n",
    "        Y_2 = 0\n",
    "        Y_3 = 0\n",
    "    \n",
    "        Y_1_list.append(Y_1)\n",
    "        Y_2_list.append(Y_2)\n",
    "        Y_3_list.append(Y_3)"
   ]
  },
  {
   "cell_type": "code",
   "execution_count": 18,
   "id": "04628f86",
   "metadata": {},
   "outputs": [
    {
     "name": "stdout",
     "output_type": "stream",
     "text": [
      "RNN_physics_input_temp shape is (400, 36, 5)\n"
     ]
    }
   ],
   "source": [
    "# collate input \n",
    "\n",
    "u1_physics_input = np.array(u1_physics_input)\n",
    "u1_physics_input = u1_physics_input.reshape(-1,1,1)\n",
    "\n",
    "\n",
    "u2_physics_input = np.array(u2_physics_input)\n",
    "u2_physics_input = u2_physics_input.reshape(-1,1,1)\n",
    "\n",
    "\n",
    "Y_1_list = np.array(Y_1_list)\n",
    "Y_1_list = Y_1_list.reshape(-1,1,1)\n",
    "\n",
    "Y_2_list = np.array(Y_2_list)\n",
    "Y_2_list = Y_2_list.reshape(-1,1,1)\n",
    "\n",
    "Y_3_list = np.array(Y_3_list)\n",
    "Y_3_list = Y_3_list.reshape(-1,1,1)\n",
    "\n",
    "\n",
    "\n",
    "RNN_physics_input_tempc = np.concatenate((u1_physics_input, u2_physics_input, Y_1_list, Y_2_list, Y_3_list), axis=2)\n",
    "\n",
    "\"\"\"\n",
    "    the input to RNN is in the shape [number of samples x timestep x variables], and the input variables are same for every\n",
    "    time step\n",
    "\"\"\"\n",
    "\n",
    "RNN_physics_input_tempc = RNN_physics_input_tempc.repeat(36, axis=1)\n",
    "print(\"RNN_physics_input_temp shape is {}\".format(RNN_physics_input_tempc.shape))"
   ]
  },
  {
   "cell_type": "code",
   "execution_count": 19,
   "id": "9aa1f5d7",
   "metadata": {},
   "outputs": [],
   "source": [
    "RNN_physics_input_tempc = scaler_X.transform(RNN_physics_input_tempc.reshape(-1, 5)).reshape(-1,36,5)"
   ]
  },
  {
   "cell_type": "code",
   "execution_count": 20,
   "id": "aa30dadc",
   "metadata": {},
   "outputs": [],
   "source": [
    "#X_collocation_train, X_collocation_val\n",
    "X_collocation_train = RNN_physics_input_tempc[80:,:,:]\n",
    "X_collocation_val = RNN_physics_input_tempc[:80,:,:]"
   ]
  },
  {
   "cell_type": "code",
   "execution_count": 21,
   "id": "ccde0ef0",
   "metadata": {},
   "outputs": [
    {
     "name": "stdout",
     "output_type": "stream",
     "text": [
      "X_collocation_train shape is: (320, 36, 5)\n",
      "X_collocation_val shape is: (80, 36, 5)\n"
     ]
    }
   ],
   "source": [
    "print(f'X_collocation_train shape is: {X_collocation_train.shape}')\n",
    "print(f'X_collocation_val shape is: {X_collocation_val.shape}')"
   ]
  },
  {
   "cell_type": "markdown",
   "id": "fa088211",
   "metadata": {},
   "source": [
    "# TRANSFORMING DATA FOR TRAINING"
   ]
  },
  {
   "cell_type": "code",
   "execution_count": 22,
   "id": "267a0ff1",
   "metadata": {},
   "outputs": [],
   "source": [
    "X_collocation_train = torch.from_numpy(X_collocation_train).float()\n",
    "X_collocation_val = torch.from_numpy(X_collocation_val).float()"
   ]
  },
  {
   "cell_type": "code",
   "execution_count": 23,
   "id": "7659da38",
   "metadata": {},
   "outputs": [],
   "source": [
    "x_train = torch.from_numpy(x_train).float()\n",
    "x_val = torch.from_numpy(x_val).float()\n",
    "x_test = torch.from_numpy(x_test).float()"
   ]
  },
  {
   "cell_type": "code",
   "execution_count": 24,
   "id": "5c8f3c74",
   "metadata": {},
   "outputs": [],
   "source": [
    "y_train = torch.from_numpy(y_train).float()\n",
    "y_val = torch.from_numpy(y_val).float()\n",
    "y_test = torch.from_numpy(y_test).float()"
   ]
  },
  {
   "cell_type": "code",
   "execution_count": 25,
   "id": "9a4d2ab8",
   "metadata": {},
   "outputs": [],
   "source": [
    "dataset_physics_train = TensorDataset(x_train, y_train)\n",
    "dataloader_physics_train = DataLoader(dataset_physics_train, batch_size=10800, shuffle=True)\n",
    "\n",
    "dataset_physics_val = TensorDataset(x_val, y_val)\n",
    "dataloader_physics_val = DataLoader(dataset_physics_val, batch_size=10800, shuffle=True)\n",
    "\n",
    "dataset_physics_test = TensorDataset(x_test, y_test)\n",
    "dataloader_physics_test = DataLoader(dataset_physics_test, batch_size=1, shuffle=False)"
   ]
  },
  {
   "cell_type": "markdown",
   "id": "1f7dee69",
   "metadata": {},
   "source": [
    "# DEFINING RNN"
   ]
  },
  {
   "cell_type": "code",
   "execution_count": 26,
   "id": "1c94fb7f",
   "metadata": {},
   "outputs": [],
   "source": [
    "class RNN(nn.Module):\n",
    "    \"Defines a RNN network\"\n",
    "    \n",
    "    def __init__(self, N_INPUT, N_OUTPUT, N_HIDDEN, N_LAYERS):\n",
    "        super(RNN, self).__init__()\n",
    "        self.layers = N_LAYERS\n",
    "        \n",
    "        if isinstance(N_HIDDEN, list):\n",
    "            self.rnn = nn.LSTM(N_INPUT, \n",
    "                                N_HIDDEN[0], \n",
    "                                batch_first=True)\n",
    "            \n",
    "            self.rnn1 = nn.ModuleList(\n",
    "                [nn.LSTM(N_HIDDEN[i], \n",
    "                        N_HIDDEN[i+1],\n",
    "                       batch_first=True) for i in range(N_LAYERS - 1)]\n",
    "            )\n",
    "            \n",
    "            self.output_layer = nn.Linear(N_HIDDEN[-1], N_OUTPUT)\n",
    "            \n",
    "            self.list_flag = True\n",
    "            \n",
    "        else:\n",
    "            self.rnn = nn.LSTM(N_INPUT, \n",
    "                                N_HIDDEN,\n",
    "                                N_LAYERS,\n",
    "                                batch_first=True,\n",
    "                                dropout=0.1)\n",
    "            \n",
    "            self.output_layer = nn.Linear(N_HIDDEN, N_OUTPUT)\n",
    "            \n",
    "            self.list_flag = False                                             \n",
    "        \n",
    "    def forward(self, x):\n",
    "        x, _ = self.rnn(x)\n",
    "        \n",
    "        if self.list_flag:\n",
    "            for i in range(self.layers - 1):\n",
    "                x, _ = self.rnn1[i](x)\n",
    "                \n",
    "        x = self.output_layer(x)\n",
    "        return x"
   ]
  },
  {
   "cell_type": "code",
   "execution_count": 27,
   "id": "cc9d3a0f",
   "metadata": {},
   "outputs": [],
   "source": [
    "t_step = 1"
   ]
  },
  {
   "cell_type": "markdown",
   "id": "942fd1fd",
   "metadata": {},
   "source": [
    "# PHYSICS INFORMED RNN"
   ]
  },
  {
   "cell_type": "code",
   "execution_count": 39,
   "id": "7d944e7f",
   "metadata": {},
   "outputs": [],
   "source": [
    "def train_model(model, patience, n_epochs, X_collocation_train, X_collocation_val):\n",
    "\n",
    "    # to track the training loss as the model trains\n",
    "    train_losses = []\n",
    "    # to track the validation loss as the model trains\n",
    "    valid_losses = []\n",
    "    # to track the average training loss per epoch as the model trains\n",
    "    avg_train_losses = []\n",
    "    # to track the average validation loss per epoch as the model trains\n",
    "    avg_valid_losses = [] \n",
    " \n",
    "    optimizer = torch.optim.Adam(model.parameters(),lr=1e-3, weight_decay=1e-5) # Adam optimizer\n",
    "    \n",
    "    # initialize the early_stopping object\n",
    "    early_stopping = EarlyStopping(patience=50, verbose=True)\n",
    "\n",
    "    for epoch in range(1,n_epochs+1):\n",
    "        \n",
    "        epoch_mse = []\n",
    "        \n",
    "        ###################\n",
    "        # train the model #\n",
    "        ###################\n",
    "        model.train() # prep model for training \n",
    "\n",
    "        for id_batch, (x_batch, y_batch) in enumerate(dataloader_physics_train):\n",
    "            x_batch, y_batch = x_batch[0].to(device), y_batch[0].to(device)\n",
    "            optimizer.zero_grad()\n",
    "\n",
    "            NN_outputd = model(x_batch) # the predicted values x̃ are obtained by passing the input vector to the PIRNN model\n",
    "\n",
    "            # Data driven loss term\n",
    "            loss1 = torch.mean((NN_outputd[ :, :] - y_batch[ :, :])**2)  # use mean squared error\n",
    "            \n",
    "            # # Use Collocation points to compute physics based loss\n",
    "            \n",
    "            X_collocation_train = X_collocation_train.to(device) \n",
    "            NN_output = model(X_collocation_train)\n",
    "\n",
    "            # Compute the physics-driven loss term\n",
    "            CB = 0.4\n",
    "            CAo = X_collocation_train[:, :, 0] * std_X[0] + mean_X[0]\n",
    "            qp_1 = X_collocation_train[:,  :, 1] * std_X[1] + mean_X[1]\n",
    "            qp_2 = qp_1.detach().numpy()\n",
    "            qp = 1.3*10e-4*(qp_2)/480\n",
    "            qp = torch.from_numpy(qp) \n",
    "\n",
    "            NN_output = NN_output * std_y.to(device) + mean_y.to(device)\n",
    "\n",
    "            dCA_first = (NN_output[:,  1:2, 0] - X_collocation_train[:, 0:1, 2]) / (2*t_step)\n",
    "            dCA_center = (NN_output[:,  2:, 0] - NN_output[:, :-2, 0]) / (2 * t_step)\n",
    "            dCA_last = (NN_output[ :, -1:, 0] - NN_output[ :, -2:-1, 0]) / (t_step)\n",
    "              \n",
    "            dCC_first = (NN_output[:,  1:2, 1] - X_collocation_train[:, 0:1, 3]) / (2*t_step)\n",
    "            dCC_center = (NN_output[:,  2:, 1] - NN_output[:,  :-2, 1]) / (2 * t_step)\n",
    "            dCC_last = (NN_output[ :, -1:, 1] - NN_output[ :, -2:-1, 1]) / (t_step)\n",
    "            \n",
    "            dCE_first = (NN_output[ :, 1:2, 2] - X_collocation_train[:, 0:1, 4]) / (2*t_step)\n",
    "            dCE_center = (NN_output[:,  2:, 2] - NN_output[:,  :-2, 2]) / (2 * t_step)\n",
    "            dCE_last = (NN_output[:,  -1:, 2] - NN_output[ :, -2:-1, 2]) / (t_step)\n",
    "\n",
    "            dCA = torch.cat((dCA_first, dCA_center, dCA_last), 1)\n",
    "            dCC = torch.cat((dCC_first, dCC_center, dCC_last), 1)\n",
    "            dCE = torch.cat((dCE_first, dCE_center, dCE_last), 1)\n",
    "\n",
    "            ### Definition of the physics-based loss ###\n",
    "            \n",
    "            lossCA = dCA - ((phi_n/CAo)*(qp/Vr)*(ka*NN_output[:,  :, 0]*CAo/(mpc+ka*NN_output[ :, :, 0]*CAo+kc*NN_output[ :, :, 1]*CAo))\n",
    "                            *(1-torch.exp(-(mpc+ka*NN_output[:,  :, 0]*CAo+kc*NN_output[:, :, 1]*CAo)*2*R)))\n",
    "            lossCA = torch.mean(lossCA**2)\n",
    "            \n",
    "            lossCC = dCC - ((k1*CB)/(k1+k2)**1)*((1/CAo)*(qp/Vr)*(ka*NN_output[:, :, 0]*CAo/(mpc+ka*NN_output[:,  :, 0]*CAo+kc*NN_output[:,  :, 1]*CAo))\n",
    "                            *(1-torch.exp(-(mpc+ka*NN_output[ :, :, 0]*CAo+kc*NN_output[:,  :, 1]*CAo)*2*R)))**1\n",
    "            lossCC = torch.mean(lossCC**2)\n",
    "            \n",
    "            lossCE = dCE - (k2/(k1+k2)**1)*((1/CAo)*(qp/Vr)*(ka*NN_output[:,  :, 0]*CAo/(mpc+ka*NN_output[ :, :, 0]*CAo+kc*NN_output[ :, :, 1]*CAo))\n",
    "                            *(1-torch.exp(-(mpc+ka*NN_output[:,  :, 0]*CAo+kc*NN_output[:,  :, 1]*CAo)*2*R)))**1 \n",
    "            lossCE = torch.mean(lossCE**2)\n",
    "            \n",
    "            \n",
    "            # backpropagate joint loss\n",
    "            loss = 10e2*loss1 + 10e-8*(3.377069851*lossCA + 1.443964636*lossCC + 88.12458286*lossCE)\n",
    "            \n",
    "            loss.backward()\n",
    "            optimizer.step()\n",
    "            \n",
    "            # record training loss\n",
    "            train_losses.append(loss.item())\n",
    "\n",
    "        ######################    \n",
    "        # validate the model #\n",
    "        ######################\n",
    "        model.eval() # prep model for evaluation   \n",
    "        for val_batch,(x_valbatch, y_valbatch) in enumerate(dataloader_physics_val):\n",
    "            x_valbatch, y_valbatch = x_valbatch[0].to(device), y_valbatch[0].to(device)  # use valiadation data   \n",
    "            NN_outputv = model(x_valbatch)\n",
    "            \n",
    "            # Data driven loss term\n",
    "            loss1 = torch.mean((NN_outputv[:, :] - y_valbatch[ :, :])**2)  \n",
    "            \n",
    "            # # Compute the loss term corresponding to initial conditions\n",
    "            \n",
    "            X_collocation_val = X_collocation_val.to(device)  \n",
    "            NN_output = model(X_collocation_val)\n",
    "            \n",
    "            # Compute the physics-driven loss term\n",
    "            CB = 0.4\n",
    "            CAo = X_collocation_val[:,:, 0] * std_X[0] + mean_X[0]\n",
    "            qp_1 = X_collocation_val[:,:, 1] * std_X[1] + mean_X[1]\n",
    "            qp_2 = qp_1.detach().numpy()\n",
    "            qp = 1.3*10e-4*(qp_2)/480\n",
    "            qp = torch.from_numpy(qp)\n",
    "\n",
    "            NN_output = NN_output * std_y.to(device) + mean_y.to(device)\n",
    "\n",
    "            dCA_first = (NN_output[:, 1:2, 0] - X_collocation_val[:, 0:1, 2]) / (2*t_step)\n",
    "\n",
    "            dCA_center = (NN_output[:,  2:, 0] - NN_output[:, :-2, 0]) / (2 * t_step)\n",
    "\n",
    "            dCA_last = (NN_output[ :, -1:, 0] - NN_output[:, -2:-1, 0]) / (t_step)\n",
    "            \n",
    "            \n",
    "            dCC_first = (NN_output[:, 1:2, 1] - X_collocation_val[:, 0:1, 3]) / (2*t_step)\n",
    "\n",
    "            dCC_center = (NN_output[:, 2:, 1] - NN_output[:, :-2, 1]) / (2 * t_step)\n",
    "            \n",
    "            dCC_last = (NN_output[:, -1:, 1] - NN_output[:, -2:-1, 1]) / (t_step)\n",
    "            \n",
    "            \n",
    "            dCE_first = (NN_output[ :, 1:2, 2] - X_collocation_val[:, 0:1, 4]) / (2*t_step)\n",
    "\n",
    "            dCE_center = (NN_output[:,  2:, 2] - NN_output[:,  :-2, 2]) / (2 * t_step)\n",
    "\n",
    "            dCE_last = (NN_output[:,  -1:, 2] - NN_output[:,  -2:-1, 2]) / (t_step)\n",
    "\n",
    "\n",
    "            dCA = torch.cat((dCA_first, dCA_center, dCA_last), 1)\n",
    "            dCC = torch.cat((dCC_first, dCC_center, dCC_last), 1)\n",
    "            dCE = torch.cat((dCE_first, dCE_center, dCE_last), 1)\n",
    "\n",
    "            ### CHECK THE SIGNS BETWEEN THE APPROXIMATED DIFFERENTIAL ###\n",
    "            \n",
    "            lossCA = dCA - ((phi_n/CAo)*(qp/Vr)*(ka*NN_output[:,  :, 0]*CAo/(mpc+ka*NN_output[:,  :, 0]*CAo+kc*NN_output[:,  :, 1]*CAo))*(1-torch.exp(-(mpc+ka*NN_output[:,  :, 0]*CAo+kc*NN_output[:,  :, 1]*CAo)*2*R)))\n",
    "            lossCA = torch.mean(lossCA**2)\n",
    "            lossCC = dCC - ((k1*CB)/(k1+k2)**1)*((1/CAo)*(qp/Vr)*(ka*NN_output[:,  :, 0]*CAo/(mpc+ka*NN_output[:, :, 0]*CAo+kc*NN_output[:,  :, 1]*CAo))*(1-torch.exp(-(mpc+ka*NN_output[:,  :, 0]*CAo+kc*NN_output[:,  :, 1]*CAo)*2*R)))**1\n",
    "            lossCC = torch.mean(lossCC**2)\n",
    "            lossCE = dCE - (k2/(k1+k2)**1)*((1/CAo)*(qp/Vr)*(ka*NN_output[:,  :, 0]*CAo/(mpc+ka*NN_output[:,  :, 0]*CAo+kc*NN_output[:, :, 1]*CAo))*(1-torch.exp(-(mpc+ka*NN_output[:,  :, 0]*CAo+kc*NN_output[:,  :, 1]*CAo)*2*R)))**1 \n",
    "            lossCE = torch.mean(lossCE**2)\n",
    "            \n",
    "            # backpropagate joint loss\n",
    "            loss = 10e2*loss1 + 10e-8*(3.377069851*lossCA + 1.443964636*lossCC + 88.12458286*lossCE)\n",
    "            \n",
    "            loss.backward()\n",
    "            optimizer.step()\n",
    "            \n",
    "            # record validation loss\n",
    "            valid_losses.append(loss.item())    \n",
    "        \n",
    "        # print training/validation statistics \n",
    "        # calculate average loss over an epoch\n",
    "        train_loss = np.average(train_losses)\n",
    "        valid_loss = np.average(valid_losses)\n",
    "        avg_train_losses.append(train_loss)\n",
    "        avg_valid_losses.append(valid_loss)\n",
    "        \n",
    "        epoch_len = len(str(n_epochs))\n",
    "        \n",
    "        print_msg = (f'[{epoch}/{n_epochs}] ' +\n",
    "                     f'train_loss: {train_loss:.5f} ' +\n",
    "                     f'valid_loss: {valid_loss:.5f}')\n",
    "        \n",
    "        print(print_msg)\n",
    "        # clear lists to track next epoch\n",
    "        train_losses = []\n",
    "        valid_losses = []      \n",
    "        \n",
    "        # early_stopping needs the validation loss to check if it has decresed, \n",
    "        # and if it has, it will make a checkpoint of the current model\n",
    "        early_stopping(valid_loss, model)\n",
    "        \n",
    "        if early_stopping.early_stop:\n",
    "            print(\"Early stopping\")\n",
    "            break\n",
    "        \n",
    "    # load the last checkpoint with the best model\n",
    "    model.load_state_dict(torch.load('checkpoint.pt'))\n",
    "\n",
    "    return  model, avg_train_losses, avg_valid_losses"
   ]
  },
  {
   "cell_type": "code",
   "execution_count": 40,
   "id": "df8d41b8",
   "metadata": {},
   "outputs": [
    {
     "name": "stdout",
     "output_type": "stream",
     "text": [
      "RNN(\n",
      "  (rnn): LSTM(5, 64, batch_first=True)\n",
      "  (rnn1): ModuleList(\n",
      "    (0): LSTM(64, 128, batch_first=True)\n",
      "  )\n",
      "  (output_layer): Linear(in_features=128, out_features=3, bias=True)\n",
      ")\n",
      "[1/200] train_loss: 722.01801 valid_loss: 812.95624\n",
      "Validation loss decreased (inf --> 812.956238).  Saving model ...\n",
      "[2/200] train_loss: 711.25458 valid_loss: 988.31763\n",
      "EarlyStopping counter: 1 out of 50\n",
      "[3/200] train_loss: 746.84167 valid_loss: 983.07037\n",
      "EarlyStopping counter: 2 out of 50\n",
      "[4/200] train_loss: 896.09955 valid_loss: 771.90332\n",
      "Validation loss decreased (812.956238 --> 771.903320).  Saving model ...\n",
      "[5/200] train_loss: 702.07410 valid_loss: 977.74799\n",
      "EarlyStopping counter: 1 out of 50\n",
      "[6/200] train_loss: 739.24182 valid_loss: 976.03448\n",
      "EarlyStopping counter: 2 out of 50\n",
      "[7/200] train_loss: 846.47791 valid_loss: 737.02356\n",
      "Validation loss decreased (771.903320 --> 737.023560).  Saving model ...\n",
      "[8/200] train_loss: 1868.34155 valid_loss: 984.34033\n",
      "EarlyStopping counter: 1 out of 50\n",
      "[9/200] train_loss: 734.36267 valid_loss: 1012.96320\n",
      "EarlyStopping counter: 2 out of 50\n",
      "[10/200] train_loss: 735.20093 valid_loss: 636.66388\n",
      "Validation loss decreased (737.023560 --> 636.663879).  Saving model ...\n",
      "[11/200] train_loss: 643.39441 valid_loss: 1038.15808\n",
      "EarlyStopping counter: 1 out of 50\n",
      "[12/200] train_loss: 681.13873 valid_loss: 1042.36084\n",
      "EarlyStopping counter: 2 out of 50\n",
      "[13/200] train_loss: 735.92334 valid_loss: 977.62817\n",
      "EarlyStopping counter: 3 out of 50\n",
      "[14/200] train_loss: 653.18732 valid_loss: 594.30743\n",
      "Validation loss decreased (636.663879 --> 594.307434).  Saving model ...\n",
      "[15/200] train_loss: 540.07251 valid_loss: 888.77911\n",
      "EarlyStopping counter: 1 out of 50\n",
      "[16/200] train_loss: 1281.83911 valid_loss: 859.92102\n",
      "EarlyStopping counter: 2 out of 50\n",
      "[17/200] train_loss: 715.97510 valid_loss: 629.70135\n",
      "EarlyStopping counter: 3 out of 50\n",
      "[18/200] train_loss: 715.11523 valid_loss: 592.54706\n",
      "Validation loss decreased (594.307434 --> 592.547058).  Saving model ...\n",
      "[19/200] train_loss: 707.75464 valid_loss: 800.62683\n",
      "EarlyStopping counter: 1 out of 50\n",
      "[20/200] train_loss: 709.08313 valid_loss: 548.93402\n",
      "Validation loss decreased (592.547058 --> 548.934021).  Saving model ...\n",
      "[21/200] train_loss: 624.97003 valid_loss: 546.94403\n",
      "Validation loss decreased (548.934021 --> 546.944031).  Saving model ...\n",
      "[22/200] train_loss: 763.27045 valid_loss: 759.58801\n",
      "EarlyStopping counter: 1 out of 50\n",
      "[23/200] train_loss: 725.48499 valid_loss: 541.15784\n",
      "Validation loss decreased (546.944031 --> 541.157837).  Saving model ...\n",
      "[24/200] train_loss: 707.23846 valid_loss: 736.87445\n",
      "EarlyStopping counter: 1 out of 50\n",
      "[25/200] train_loss: 672.81921 valid_loss: 724.76794\n",
      "EarlyStopping counter: 2 out of 50\n",
      "[26/200] train_loss: 600.70825 valid_loss: 545.64880\n",
      "EarlyStopping counter: 3 out of 50\n",
      "[27/200] train_loss: 723.91272 valid_loss: 704.57635\n",
      "EarlyStopping counter: 4 out of 50\n",
      "[28/200] train_loss: 1112.08569 valid_loss: 556.82568\n",
      "EarlyStopping counter: 5 out of 50\n",
      "[29/200] train_loss: 569.55237 valid_loss: 629.48010\n",
      "EarlyStopping counter: 6 out of 50\n",
      "[30/200] train_loss: 590.14838 valid_loss: 687.30402\n",
      "EarlyStopping counter: 7 out of 50\n",
      "[31/200] train_loss: 808.34692 valid_loss: 669.11212\n",
      "EarlyStopping counter: 8 out of 50\n",
      "[32/200] train_loss: 661.60327 valid_loss: 680.21204\n",
      "EarlyStopping counter: 9 out of 50\n",
      "[33/200] train_loss: 748.15643 valid_loss: 681.79840\n",
      "EarlyStopping counter: 10 out of 50\n",
      "[34/200] train_loss: 555.61523 valid_loss: 567.22577\n",
      "EarlyStopping counter: 11 out of 50\n",
      "[35/200] train_loss: 677.71979 valid_loss: 696.94952\n",
      "EarlyStopping counter: 12 out of 50\n",
      "[36/200] train_loss: 656.85150 valid_loss: 531.68103\n",
      "Validation loss decreased (541.157837 --> 531.681030).  Saving model ...\n",
      "[37/200] train_loss: 600.69513 valid_loss: 715.65753\n",
      "EarlyStopping counter: 1 out of 50\n",
      "[38/200] train_loss: 674.56696 valid_loss: 547.66663\n",
      "EarlyStopping counter: 2 out of 50\n",
      "[39/200] train_loss: 619.97375 valid_loss: 695.23834\n",
      "EarlyStopping counter: 3 out of 50\n",
      "[40/200] train_loss: 583.45837 valid_loss: 676.78491\n",
      "EarlyStopping counter: 4 out of 50\n",
      "[41/200] train_loss: 636.54236 valid_loss: 528.61969\n",
      "Validation loss decreased (531.681030 --> 528.619690).  Saving model ...\n",
      "[42/200] train_loss: 744.02338 valid_loss: 520.97479\n",
      "Validation loss decreased (528.619690 --> 520.974792).  Saving model ...\n",
      "[43/200] train_loss: 503.97421 valid_loss: 528.21527\n",
      "EarlyStopping counter: 1 out of 50\n",
      "[44/200] train_loss: 694.75427 valid_loss: 653.69507\n",
      "EarlyStopping counter: 2 out of 50\n",
      "[45/200] train_loss: 702.45386 valid_loss: 645.45428\n",
      "EarlyStopping counter: 3 out of 50\n",
      "[46/200] train_loss: 690.13745 valid_loss: 559.91614\n",
      "EarlyStopping counter: 4 out of 50\n",
      "[47/200] train_loss: 667.47601 valid_loss: 631.34930\n",
      "EarlyStopping counter: 5 out of 50\n",
      "[48/200] train_loss: 692.56476 valid_loss: 545.79205\n",
      "EarlyStopping counter: 6 out of 50\n",
      "[49/200] train_loss: 547.94641 valid_loss: 660.85144\n",
      "EarlyStopping counter: 7 out of 50\n",
      "[50/200] train_loss: 539.53564 valid_loss: 524.87506\n",
      "EarlyStopping counter: 8 out of 50\n",
      "[51/200] train_loss: 509.92252 valid_loss: 520.36469\n",
      "Validation loss decreased (520.974792 --> 520.364685).  Saving model ...\n",
      "[52/200] train_loss: 844.96271 valid_loss: 789.08893\n",
      "EarlyStopping counter: 1 out of 50\n",
      "[53/200] train_loss: 505.12766 valid_loss: 788.25848\n",
      "EarlyStopping counter: 2 out of 50\n",
      "[54/200] train_loss: 521.31464 valid_loss: 508.24768\n",
      "Validation loss decreased (520.364685 --> 508.247681).  Saving model ...\n",
      "[55/200] train_loss: 652.47620 valid_loss: 505.08148\n",
      "Validation loss decreased (508.247681 --> 505.081482).  Saving model ...\n",
      "[56/200] train_loss: 598.36700 valid_loss: 504.97656\n",
      "Validation loss decreased (505.081482 --> 504.976562).  Saving model ...\n",
      "[57/200] train_loss: 630.75897 valid_loss: 630.81848\n",
      "EarlyStopping counter: 1 out of 50\n",
      "[58/200] train_loss: 818.28131 valid_loss: 609.73785\n",
      "EarlyStopping counter: 2 out of 50\n",
      "[59/200] train_loss: 647.39026 valid_loss: 533.82825\n",
      "EarlyStopping counter: 3 out of 50\n",
      "[60/200] train_loss: 540.24384 valid_loss: 588.68500\n",
      "EarlyStopping counter: 4 out of 50\n",
      "[61/200] train_loss: 603.82526 valid_loss: 582.06012\n",
      "EarlyStopping counter: 5 out of 50\n",
      "[62/200] train_loss: 492.83670 valid_loss: 575.33875\n",
      "EarlyStopping counter: 6 out of 50\n",
      "[63/200] train_loss: 605.16626 valid_loss: 567.24017\n",
      "EarlyStopping counter: 7 out of 50\n",
      "[64/200] train_loss: 1270.84753 valid_loss: 644.15936\n",
      "EarlyStopping counter: 8 out of 50\n",
      "[65/200] train_loss: 536.49976 valid_loss: 589.24744\n",
      "EarlyStopping counter: 9 out of 50\n",
      "[66/200] train_loss: 515.48950 valid_loss: 539.31622\n",
      "EarlyStopping counter: 10 out of 50\n",
      "[67/200] train_loss: 533.79590 valid_loss: 506.17499\n",
      "EarlyStopping counter: 11 out of 50\n",
      "[68/200] train_loss: 568.76776 valid_loss: 580.45782\n",
      "EarlyStopping counter: 12 out of 50\n",
      "[69/200] train_loss: 485.37616 valid_loss: 481.40042\n",
      "Validation loss decreased (504.976562 --> 481.400421).  Saving model ...\n",
      "[70/200] train_loss: 554.96368 valid_loss: 476.56308\n",
      "Validation loss decreased (481.400421 --> 476.563080).  Saving model ...\n",
      "[71/200] train_loss: 541.24194 valid_loss: 476.38049\n",
      "Validation loss decreased (476.563080 --> 476.380493).  Saving model ...\n",
      "[72/200] train_loss: 519.73560 valid_loss: 484.64896\n",
      "EarlyStopping counter: 1 out of 50\n",
      "[73/200] train_loss: 519.98273 valid_loss: 496.43256\n",
      "EarlyStopping counter: 2 out of 50\n",
      "[74/200] train_loss: 477.35666 valid_loss: 660.06433\n",
      "EarlyStopping counter: 3 out of 50\n",
      "[75/200] train_loss: 857.83331 valid_loss: 540.54553\n",
      "EarlyStopping counter: 4 out of 50\n",
      "[76/200] train_loss: 470.83929 valid_loss: 491.76154\n",
      "EarlyStopping counter: 5 out of 50\n",
      "[77/200] train_loss: 721.51208 valid_loss: 475.87582\n",
      "Validation loss decreased (476.380493 --> 475.875824).  Saving model ...\n",
      "[78/200] train_loss: 512.83521 valid_loss: 528.83765\n",
      "EarlyStopping counter: 1 out of 50\n",
      "[79/200] train_loss: 583.93713 valid_loss: 450.44897\n",
      "Validation loss decreased (475.875824 --> 450.448975).  Saving model ...\n",
      "[80/200] train_loss: 567.26044 valid_loss: 526.93494\n",
      "EarlyStopping counter: 1 out of 50\n",
      "[81/200] train_loss: 503.20490 valid_loss: 450.05469\n",
      "Validation loss decreased (450.448975 --> 450.054688).  Saving model ...\n",
      "[82/200] train_loss: 492.91254 valid_loss: 488.17801\n",
      "EarlyStopping counter: 1 out of 50\n",
      "[83/200] train_loss: 526.57190 valid_loss: 455.16467\n",
      "EarlyStopping counter: 2 out of 50\n",
      "[84/200] train_loss: 516.87195 valid_loss: 451.07965\n",
      "EarlyStopping counter: 3 out of 50\n",
      "[85/200] train_loss: 444.76144 valid_loss: 441.32086\n",
      "Validation loss decreased (450.054688 --> 441.320862).  Saving model ...\n",
      "[86/200] train_loss: 477.44067 valid_loss: 455.87433\n",
      "EarlyStopping counter: 1 out of 50\n",
      "[87/200] train_loss: 425.26971 valid_loss: 451.05518\n",
      "EarlyStopping counter: 2 out of 50\n",
      "[88/200] train_loss: 590.60504 valid_loss: 445.39359\n",
      "EarlyStopping counter: 3 out of 50\n",
      "[89/200] train_loss: 567.47211 valid_loss: 439.70029\n",
      "Validation loss decreased (441.320862 --> 439.700287).  Saving model ...\n",
      "[90/200] train_loss: 462.86130 valid_loss: 434.12991\n",
      "Validation loss decreased (439.700287 --> 434.129913).  Saving model ...\n",
      "[91/200] train_loss: 457.27438 valid_loss: 429.99530\n",
      "Validation loss decreased (434.129913 --> 429.995300).  Saving model ...\n",
      "[92/200] train_loss: 465.52481 valid_loss: 429.68060\n",
      "Validation loss decreased (429.995300 --> 429.680603).  Saving model ...\n",
      "[93/200] train_loss: 714.54199 valid_loss: 431.25815\n",
      "EarlyStopping counter: 1 out of 50\n",
      "[94/200] train_loss: 414.30664 valid_loss: 409.41656\n",
      "Validation loss decreased (429.680603 --> 409.416565).  Saving model ...\n",
      "[95/200] train_loss: 401.95749 valid_loss: 419.65988\n",
      "EarlyStopping counter: 1 out of 50\n",
      "[96/200] train_loss: 440.43405 valid_loss: 411.58093\n",
      "EarlyStopping counter: 2 out of 50\n",
      "[97/200] train_loss: 390.75378 valid_loss: 403.01703\n",
      "Validation loss decreased (409.416565 --> 403.017029).  Saving model ...\n",
      "[98/200] train_loss: 474.72610 valid_loss: 449.24313\n",
      "EarlyStopping counter: 1 out of 50\n",
      "[99/200] train_loss: 377.16025 valid_loss: 382.15817\n",
      "Validation loss decreased (403.017029 --> 382.158173).  Saving model ...\n",
      "[100/200] train_loss: 438.52487 valid_loss: 426.60217\n",
      "EarlyStopping counter: 1 out of 50\n",
      "[101/200] train_loss: 393.04184 valid_loss: 397.31146\n",
      "EarlyStopping counter: 2 out of 50\n",
      "[102/200] train_loss: 384.18042 valid_loss: 377.07825\n",
      "Validation loss decreased (382.158173 --> 377.078247).  Saving model ...\n",
      "[103/200] train_loss: 377.87271 valid_loss: 376.05704\n",
      "Validation loss decreased (377.078247 --> 376.057037).  Saving model ...\n",
      "[104/200] train_loss: 465.18805 valid_loss: 369.54465\n",
      "Validation loss decreased (376.057037 --> 369.544647).  Saving model ...\n",
      "[105/200] train_loss: 336.74738 valid_loss: 379.93530\n",
      "EarlyStopping counter: 1 out of 50\n",
      "[106/200] train_loss: 408.16016 valid_loss: 360.46869\n",
      "Validation loss decreased (369.544647 --> 360.468689).  Saving model ...\n",
      "[107/200] train_loss: 531.86987 valid_loss: 390.02060\n",
      "EarlyStopping counter: 1 out of 50\n",
      "[108/200] train_loss: 375.04779 valid_loss: 384.21783\n",
      "EarlyStopping counter: 2 out of 50\n",
      "[109/200] train_loss: 432.21780 valid_loss: 368.36804\n",
      "EarlyStopping counter: 3 out of 50\n",
      "[110/200] train_loss: 309.75735 valid_loss: 319.03159\n",
      "Validation loss decreased (360.468689 --> 319.031586).  Saving model ...\n",
      "[111/200] train_loss: 307.30875 valid_loss: 312.30411\n",
      "Validation loss decreased (319.031586 --> 312.304108).  Saving model ...\n",
      "[112/200] train_loss: 486.93661 valid_loss: 338.67450\n",
      "EarlyStopping counter: 1 out of 50\n",
      "[113/200] train_loss: 493.44476 valid_loss: 304.61862\n",
      "Validation loss decreased (312.304108 --> 304.618622).  Saving model ...\n",
      "[114/200] train_loss: 280.32751 valid_loss: 339.28131\n",
      "EarlyStopping counter: 1 out of 50\n",
      "[115/200] train_loss: 363.23053 valid_loss: 298.94238\n",
      "Validation loss decreased (304.618622 --> 298.942383).  Saving model ...\n",
      "[116/200] train_loss: 317.98633 valid_loss: 291.70847\n",
      "Validation loss decreased (298.942383 --> 291.708466).  Saving model ...\n",
      "[117/200] train_loss: 317.34042 valid_loss: 397.35712\n",
      "EarlyStopping counter: 1 out of 50\n",
      "[118/200] train_loss: 326.43451 valid_loss: 393.19138\n",
      "EarlyStopping counter: 2 out of 50\n",
      "[119/200] train_loss: 304.02313 valid_loss: 289.50311\n",
      "Validation loss decreased (291.708466 --> 289.503113).  Saving model ...\n",
      "[120/200] train_loss: 323.73322 valid_loss: 349.02441\n",
      "EarlyStopping counter: 1 out of 50\n",
      "[121/200] train_loss: 258.71823 valid_loss: 330.32367\n",
      "EarlyStopping counter: 2 out of 50\n",
      "[122/200] train_loss: 291.32892 valid_loss: 316.92471\n",
      "EarlyStopping counter: 3 out of 50\n",
      "[123/200] train_loss: 291.88818 valid_loss: 305.27896\n",
      "EarlyStopping counter: 4 out of 50\n",
      "[124/200] train_loss: 312.42087 valid_loss: 345.54184\n",
      "EarlyStopping counter: 5 out of 50\n",
      "[125/200] train_loss: 269.06601 valid_loss: 248.99031\n",
      "Validation loss decreased (289.503113 --> 248.990311).  Saving model ...\n",
      "[126/200] train_loss: 222.72969 valid_loss: 253.50793\n",
      "EarlyStopping counter: 1 out of 50\n",
      "[127/200] train_loss: 229.92419 valid_loss: 304.99704\n",
      "EarlyStopping counter: 2 out of 50\n",
      "[128/200] train_loss: 365.73328 valid_loss: 293.86404\n",
      "EarlyStopping counter: 3 out of 50\n",
      "[129/200] train_loss: 277.16891 valid_loss: 276.92496\n",
      "EarlyStopping counter: 4 out of 50\n",
      "[130/200] train_loss: 293.43546 valid_loss: 265.57471\n",
      "EarlyStopping counter: 5 out of 50\n",
      "[131/200] train_loss: 296.97415 valid_loss: 257.04193\n",
      "EarlyStopping counter: 6 out of 50\n",
      "[132/200] train_loss: 475.11752 valid_loss: 253.66702\n",
      "EarlyStopping counter: 7 out of 50\n",
      "[133/200] train_loss: 208.06078 valid_loss: 254.53162\n",
      "EarlyStopping counter: 8 out of 50\n",
      "[134/200] train_loss: 307.28329 valid_loss: 199.86903\n",
      "Validation loss decreased (248.990311 --> 199.869034).  Saving model ...\n",
      "[135/200] train_loss: 174.09575 valid_loss: 192.64821\n",
      "Validation loss decreased (199.869034 --> 192.648209).  Saving model ...\n",
      "[136/200] train_loss: 242.81584 valid_loss: 239.22989\n",
      "EarlyStopping counter: 1 out of 50\n",
      "[137/200] train_loss: 167.78909 valid_loss: 234.73460\n",
      "EarlyStopping counter: 2 out of 50\n",
      "[138/200] train_loss: 210.59729 valid_loss: 180.81726\n",
      "Validation loss decreased (192.648209 --> 180.817261).  Saving model ...\n",
      "[139/200] train_loss: 154.42188 valid_loss: 219.17006\n",
      "EarlyStopping counter: 1 out of 50\n",
      "[140/200] train_loss: 284.69791 valid_loss: 211.83739\n",
      "EarlyStopping counter: 2 out of 50\n",
      "[141/200] train_loss: 218.84802 valid_loss: 169.53645\n",
      "Validation loss decreased (180.817261 --> 169.536453).  Saving model ...\n",
      "[142/200] train_loss: 270.48544 valid_loss: 200.40164\n",
      "EarlyStopping counter: 1 out of 50\n",
      "[143/200] train_loss: 156.56592 valid_loss: 151.08179\n",
      "Validation loss decreased (169.536453 --> 151.081787).  Saving model ...\n",
      "[144/200] train_loss: 287.90979 valid_loss: 156.09465\n",
      "EarlyStopping counter: 1 out of 50\n",
      "[145/200] train_loss: 267.31982 valid_loss: 193.01752\n",
      "EarlyStopping counter: 2 out of 50\n",
      "[146/200] train_loss: 207.28636 valid_loss: 131.74219\n",
      "Validation loss decreased (151.081787 --> 131.742188).  Saving model ...\n",
      "[147/200] train_loss: 109.97153 valid_loss: 125.46955\n",
      "Validation loss decreased (131.742188 --> 125.469551).  Saving model ...\n",
      "[148/200] train_loss: 211.35846 valid_loss: 121.55547\n",
      "Validation loss decreased (125.469551 --> 121.555466).  Saving model ...\n",
      "[149/200] train_loss: 149.91838 valid_loss: 209.86469\n",
      "EarlyStopping counter: 1 out of 50\n",
      "[150/200] train_loss: 129.75133 valid_loss: 187.69133\n",
      "EarlyStopping counter: 2 out of 50\n",
      "[151/200] train_loss: 101.66000 valid_loss: 176.64601\n",
      "EarlyStopping counter: 3 out of 50\n",
      "[152/200] train_loss: 99.25883 valid_loss: 167.27769\n",
      "EarlyStopping counter: 4 out of 50\n",
      "[153/200] train_loss: 110.71815 valid_loss: 160.79544\n",
      "EarlyStopping counter: 5 out of 50\n",
      "[154/200] train_loss: 104.76562 valid_loss: 152.22682\n",
      "EarlyStopping counter: 6 out of 50\n",
      "[155/200] train_loss: 111.41215 valid_loss: 94.66020\n",
      "Validation loss decreased (121.555466 --> 94.660202).  Saving model ...\n",
      "[156/200] train_loss: 143.84598 valid_loss: 88.14949\n",
      "Validation loss decreased (94.660202 --> 88.149490).  Saving model ...\n",
      "[157/200] train_loss: 143.23906 valid_loss: 134.15363\n",
      "EarlyStopping counter: 1 out of 50\n",
      "[158/200] train_loss: 86.07663 valid_loss: 78.01933\n",
      "Validation loss decreased (88.149490 --> 78.019333).  Saving model ...\n",
      "[159/200] train_loss: 114.04578 valid_loss: 128.09444\n",
      "EarlyStopping counter: 1 out of 50\n",
      "[160/200] train_loss: 68.59354 valid_loss: 68.25859\n",
      "Validation loss decreased (78.019333 --> 68.258591).  Saving model ...\n",
      "[161/200] train_loss: 92.13557 valid_loss: 133.13905\n",
      "EarlyStopping counter: 1 out of 50\n",
      "[162/200] train_loss: 179.73871 valid_loss: 65.25646\n",
      "Validation loss decreased (68.258591 --> 65.256462).  Saving model ...\n",
      "[163/200] train_loss: 90.37469 valid_loss: 125.28335\n",
      "EarlyStopping counter: 1 out of 50\n",
      "[164/200] train_loss: 132.58994 valid_loss: 110.12830\n",
      "EarlyStopping counter: 2 out of 50\n",
      "[165/200] train_loss: 85.44235 valid_loss: 99.10468\n",
      "EarlyStopping counter: 3 out of 50\n",
      "[166/200] train_loss: 75.76152 valid_loss: 91.55309\n",
      "EarlyStopping counter: 4 out of 50\n",
      "[167/200] train_loss: 34.86870 valid_loss: 93.82063\n",
      "EarlyStopping counter: 5 out of 50\n",
      "[168/200] train_loss: 76.35709 valid_loss: 93.97713\n",
      "EarlyStopping counter: 6 out of 50\n",
      "[169/200] train_loss: 70.06699 valid_loss: 48.50945\n",
      "Validation loss decreased (65.256462 --> 48.509449).  Saving model ...\n",
      "[170/200] train_loss: 162.82281 valid_loss: 78.66072\n",
      "EarlyStopping counter: 1 out of 50\n",
      "[171/200] train_loss: 66.62360 valid_loss: 203.36810\n",
      "EarlyStopping counter: 2 out of 50\n",
      "[172/200] train_loss: 73.00165 valid_loss: 77.03909\n",
      "EarlyStopping counter: 3 out of 50\n",
      "[173/200] train_loss: 39.59692 valid_loss: 79.13865\n",
      "EarlyStopping counter: 4 out of 50\n",
      "[174/200] train_loss: 65.16412 valid_loss: 76.18421\n",
      "EarlyStopping counter: 5 out of 50\n",
      "[175/200] train_loss: 162.74234 valid_loss: 79.75585\n",
      "EarlyStopping counter: 6 out of 50\n",
      "[176/200] train_loss: 102.48909 valid_loss: 66.99149\n",
      "EarlyStopping counter: 7 out of 50\n",
      "[177/200] train_loss: 60.85006 valid_loss: 54.78817\n",
      "EarlyStopping counter: 8 out of 50\n",
      "[178/200] train_loss: 131.07230 valid_loss: 29.56248\n",
      "Validation loss decreased (48.509449 --> 29.562481).  Saving model ...\n",
      "[179/200] train_loss: 127.60899 valid_loss: 28.88338\n",
      "Validation loss decreased (29.562481 --> 28.883385).  Saving model ...\n",
      "[180/200] train_loss: 58.61539 valid_loss: 68.51376\n",
      "EarlyStopping counter: 1 out of 50\n",
      "[181/200] train_loss: 50.73735 valid_loss: 63.04847\n",
      "EarlyStopping counter: 2 out of 50\n",
      "[182/200] train_loss: 57.97815 valid_loss: 59.05075\n",
      "EarlyStopping counter: 3 out of 50\n",
      "[183/200] train_loss: 171.38841 valid_loss: 22.41220\n",
      "Validation loss decreased (28.883385 --> 22.412195).  Saving model ...\n",
      "[184/200] train_loss: 48.18439 valid_loss: 53.76193\n",
      "EarlyStopping counter: 1 out of 50\n",
      "[185/200] train_loss: 39.99245 valid_loss: 50.90795\n",
      "EarlyStopping counter: 2 out of 50\n",
      "[186/200] train_loss: 151.05974 valid_loss: 48.62823\n",
      "EarlyStopping counter: 3 out of 50\n",
      "[187/200] train_loss: 59.58117 valid_loss: 47.14427\n",
      "EarlyStopping counter: 4 out of 50\n",
      "[188/200] train_loss: 36.55922 valid_loss: 95.69543\n",
      "EarlyStopping counter: 5 out of 50\n",
      "[189/200] train_loss: 116.71767 valid_loss: 30.67803\n",
      "EarlyStopping counter: 6 out of 50\n",
      "[190/200] train_loss: 58.08613 valid_loss: 76.37152\n",
      "EarlyStopping counter: 7 out of 50\n",
      "[191/200] train_loss: 66.62914 valid_loss: 50.10748\n",
      "EarlyStopping counter: 8 out of 50\n",
      "[192/200] train_loss: 22.82479 valid_loss: 46.89234\n",
      "EarlyStopping counter: 9 out of 50\n",
      "[193/200] train_loss: 33.42560 valid_loss: 34.60088\n",
      "EarlyStopping counter: 10 out of 50\n",
      "[194/200] train_loss: 67.54076 valid_loss: 103.85070\n",
      "EarlyStopping counter: 11 out of 50\n",
      "[195/200] train_loss: 30.75538 valid_loss: 33.04670\n",
      "EarlyStopping counter: 12 out of 50\n",
      "[196/200] train_loss: 336.91864 valid_loss: 43.41160\n",
      "EarlyStopping counter: 13 out of 50\n",
      "[197/200] train_loss: 117.71323 valid_loss: 63.56365\n",
      "EarlyStopping counter: 14 out of 50\n",
      "[198/200] train_loss: 206.47560 valid_loss: 52.23096\n",
      "EarlyStopping counter: 15 out of 50\n",
      "[199/200] train_loss: 46.96558 valid_loss: 23.21262\n",
      "EarlyStopping counter: 16 out of 50\n",
      "[200/200] train_loss: 146.23428 valid_loss: 84.05360\n",
      "EarlyStopping counter: 17 out of 50\n"
     ]
    }
   ],
   "source": [
    "# Train the PIRNN model\n",
    "model_PINN = RNN(5, 3, [64,128], 2)\n",
    "model_PINN.to(device)\n",
    "\n",
    "print(model_PINN)\n",
    "\n",
    "n_epochs = 200\n",
    "patience = 50\n",
    "\n",
    "model_PINN, train_loss, valid_loss = train_model(model_PINN, patience, n_epochs, X_collocation_train, X_collocation_val)"
   ]
  },
  {
   "cell_type": "markdown",
   "id": "ab85d904",
   "metadata": {},
   "source": [
    "# Track loss profile"
   ]
  },
  {
   "cell_type": "code",
   "execution_count": 41,
   "id": "9650e7b7",
   "metadata": {},
   "outputs": [
    {
     "data": {
      "image/png": "[encoded data removed]",
      "text/plain": [
       "<Figure size 432x288 with 1 Axes>"
      ]
     },
     "metadata": {
      "needs_background": "light"
     },
     "output_type": "display_data"
    },
    {
     "data": {
      "image/png": "[encoded data removed]",
      "text/plain": [
       "<Figure size 432x288 with 1 Axes>"
      ]
     },
     "metadata": {
      "needs_background": "light"
     },
     "output_type": "display_data"
    }
   ],
   "source": [
    "plt.plot(train_loss, label=\"Train RMSE\")\n",
    "plt.xlabel(\"epochs\")\n",
    "plt.xlim(0,600)\n",
    "plt.legend()\n",
    "plt.show()\n",
    "\n",
    "from scipy.signal import savgol_filter\n",
    "yhat = savgol_filter(train_loss, 51, 1) # window size 51, polynomial order 3\n",
    "plt.plot(yhat, color='red')\n",
    "plt.show()"
   ]
  },
  {
   "cell_type": "code",
   "execution_count": 42,
   "id": "1c39bc5e",
   "metadata": {},
   "outputs": [
    {
     "data": {
      "image/png": "[encoded data removed]",
      "text/plain": [
       "<Figure size 432x288 with 1 Axes>"
      ]
     },
     "metadata": {
      "needs_background": "light"
     },
     "output_type": "display_data"
    },
    {
     "data": {
      "image/png": "[encoded data removed]",
      "text/plain": [
       "<Figure size 432x288 with 1 Axes>"
      ]
     },
     "metadata": {
      "needs_background": "light"
     },
     "output_type": "display_data"
    }
   ],
   "source": [
    "plt.plot(valid_loss, label=\"Validation RMSE\")\n",
    "plt.xlabel(\"epochs\")\n",
    "plt.xlim(0,1500)\n",
    "plt.legend()\n",
    "plt.show()\n",
    "\n",
    "from scipy.signal import savgol_filter\n",
    "yhat = savgol_filter(valid_loss, 51, 1) # window size 51, polynomial order 3\n",
    "plt.plot(yhat, color='red')\n",
    "plt.show()"
   ]
  },
  {
   "cell_type": "markdown",
   "id": "c811bd57",
   "metadata": {},
   "source": [
    "# SAVE AND TEST MODEL"
   ]
  },
  {
   "cell_type": "code",
   "execution_count": 43,
   "id": "cc70ef65",
   "metadata": {},
   "outputs": [],
   "source": [
    "torch.save(model_PINN,'PINN.pkl')"
   ]
  },
  {
   "cell_type": "code",
   "execution_count": 44,
   "id": "54c28cdf",
   "metadata": {},
   "outputs": [
    {
     "name": "stdout",
     "output_type": "stream",
     "text": [
      "RNN(\n",
      "  (rnn): LSTM(5, 64, batch_first=True)\n",
      "  (rnn1): ModuleList(\n",
      "    (0): LSTM(64, 128, batch_first=True)\n",
      "  )\n",
      "  (output_layer): Linear(in_features=128, out_features=3, bias=True)\n",
      ")\n",
      "mean error is 0.05092025734484196, std is 0.006078226491808891\n"
     ]
    }
   ],
   "source": [
    "\"\"\"\n",
    "Test PIRNN model\n",
    "\"\"\"\n",
    "model_PINN = torch.load('PINN.pkl')\n",
    "model_PINN.to(device)\n",
    "print(model_PINN)\n",
    "\n",
    "y_test_error = list()\n",
    "total_batch_num = 8160 # change manually,if required. sample of test data\n",
    "model_PINN.eval()\n",
    "for id_batch, (x_batch, y_batch) in enumerate(dataloader_physics_test):\n",
    "    x_batch, y_batch = x_batch.to(device), y_batch.to(device)\n",
    "    NN_output = model_PINN(x_batch)\n",
    "    MSE_loss= torch.mean((NN_output - y_batch)**2)\n",
    "    y_test_error.append(MSE_loss.item())\n",
    "\n",
    "print(f\"mean error is {np.mean(y_test_error)}, std is {np.std(y_test_error)}\") "
   ]
  },
  {
   "cell_type": "markdown",
   "id": "5f1dcbf1",
   "metadata": {},
   "source": [
    "# VISUALIZATION OF MODEL PERFORMANCE"
   ]
  },
  {
   "cell_type": "code",
   "execution_count": 45,
   "id": "3fbb8184",
   "metadata": {},
   "outputs": [
    {
     "name": "stdout",
     "output_type": "stream",
     "text": [
      "(2, 36, 3)\n"
     ]
    }
   ],
   "source": [
    "RNN_predict = model_PINN(x_test)\n",
    "RNN_predict = scaler_y.inverse_transform(RNN_predict.detach().numpy().reshape(-1,3)).reshape(-1,36, 3)\n",
    "print(RNN_predict.shape)\n",
    "Y_real = scaler_y.inverse_transform(y_test.reshape(-1,3)).reshape(-1,36, 3)"
   ]
  },
  {
   "cell_type": "code",
   "execution_count": 46,
   "id": "a71eb322",
   "metadata": {},
   "outputs": [
    {
     "data": {
      "image/png": "[encoded data removed]",
      "text/plain": [
       "<Figure size 432x288 with 1 Axes>"
      ]
     },
     "metadata": {
      "needs_background": "light"
     },
     "output_type": "display_data"
    },
    {
     "data": {
      "text/plain": [
       "1.0523113098049806"
      ]
     },
     "execution_count": 46,
     "metadata": {},
     "output_type": "execute_result"
    }
   ],
   "source": [
    "#prediction performance of CA\n",
    "\n",
    "j = -1\n",
    "i = 0\n",
    "Y_i = np.array(RNN_predict[j,:,i]).reshape(-1)\n",
    "Y_real_i = np.array(Y_real[j,:,i]).reshape(-1)\n",
    "\n",
    "plt.scatter(X1,Y_i, color='r')\n",
    "plt.scatter(X1,Y_real_i, color='g')\n",
    "\n",
    "plt.legend(['PI-RNN','Experimental data'])\n",
    "plt.xlabel(\"Time (minutes)\")\n",
    "plt.ylabel(\"Normalized concentration of CA\")\n",
    "plt.show()\n",
    "\n",
    "c = 0\n",
    "\n",
    "for i in range(len(Y_i)):\n",
    "    c += abs(Y_i[i] - Y_real_i[i]) \n",
    "c "
   ]
  },
  {
   "cell_type": "code",
   "execution_count": 47,
   "id": "1cf2e752",
   "metadata": {},
   "outputs": [
    {
     "data": {
      "image/png": "[encoded data removed]",
      "text/plain": [
       "<Figure size 432x288 with 1 Axes>"
      ]
     },
     "metadata": {
      "needs_background": "light"
     },
     "output_type": "display_data"
    },
    {
     "data": {
      "text/plain": [
       "1.1030837273994278"
      ]
     },
     "execution_count": 47,
     "metadata": {},
     "output_type": "execute_result"
    }
   ],
   "source": [
    "#prediction performance of CC\n",
    "\n",
    "j = -1\n",
    "i = 1\n",
    "Y_i = np.array(RNN_predict[j,:,i]).reshape(-1)\n",
    "Y_real_i = np.array(Y_real[j,:,i]).reshape(-1)\n",
    "\n",
    "plt.scatter(X1,Y_i, color='r')\n",
    "plt.scatter(X1,Y_real_i, color='g')\n",
    "\n",
    "plt.legend(['PI-RNN','Experimental data'])\n",
    "plt.xlabel(\"Time (minutes)\")\n",
    "plt.ylabel(\"Normalized concentration of CC\")\n",
    "plt.show()\n",
    "\n",
    "c = 0\n",
    "\n",
    "for i in range(len(Y_i)):\n",
    "    c += abs(Y_i[i] - Y_real_i[i]) \n",
    "c "
   ]
  },
  {
   "cell_type": "code",
   "execution_count": 48,
   "id": "97632fe4",
   "metadata": {},
   "outputs": [
    {
     "data": {
      "image/png": "[encoded data removed]",
      "text/plain": [
       "<Figure size 432x288 with 1 Axes>"
      ]
     },
     "metadata": {
      "needs_background": "light"
     },
     "output_type": "display_data"
    },
    {
     "data": {
      "text/plain": [
       "0.022566473960988927"
      ]
     },
     "execution_count": 48,
     "metadata": {},
     "output_type": "execute_result"
    }
   ],
   "source": [
    "#prediction performance of CE\n",
    "\n",
    "j = -1\n",
    "i = 2\n",
    "Y_i = np.array(RNN_predict[j,:,i]).reshape(-1)\n",
    "Y_real_i = np.array(Y_real[j,:,i]).reshape(-1)\n",
    "\n",
    "plt.scatter(X1,Y_i, color='r')\n",
    "plt.scatter(X1,Y_real_i, color='g')\n",
    "\n",
    "plt.legend(['PI-RNN','Experimental data'])\n",
    "plt.xlabel(\"Time (minutes)\")\n",
    "plt.ylabel(\"Normalized concentration of CE\")\n",
    "plt.show()\n",
    "\n",
    "c = 0\n",
    "\n",
    "for i in range(len(Y_i)):\n",
    "    c += abs(Y_i[i] - Y_real_i[i]) \n",
    "c "
   ]
  },
  {
   "cell_type": "code",
   "execution_count": null,
   "id": "247b8f9c",
   "metadata": {},
   "outputs": [],
   "source": []
  },
  {
   "cell_type": "code",
   "execution_count": null,
   "id": "8d14c176",
   "metadata": {},
   "outputs": [],
   "source": []
  }
 ],
 "metadata": {
  "kernelspec": {
   "display_name": "Python 3 (ipykernel)",
   "language": "python",
   "name": "python3"
  },
  "language_info": {
   "codemirror_mode": {
    "name": "ipython",
    "version": 3
   },
   "file_extension": ".py",
   "mimetype": "text/x-python",
   "name": "python",
   "nbconvert_exporter": "python",
   "pygments_lexer": "ipython3",
   "version": "3.10.2"
  }
 },
 "nbformat": 4,
 "nbformat_minor": 5
}
